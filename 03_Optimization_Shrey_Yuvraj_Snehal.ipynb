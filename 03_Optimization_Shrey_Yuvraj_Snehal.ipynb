{
  "cells": [
    {
      "cell_type": "markdown",
      "metadata": {
        "id": "view-in-github",
        "colab_type": "text"
      },
      "source": [
        "<a href=\"https://colab.research.google.com/github/YUvraj-Shirke/AI_MAA02/blob/main/03_Optimization_Shrey_Yuvraj_Snehal.ipynb\" target=\"_parent\"><img src=\"https://colab.research.google.com/assets/colab-badge.svg\" alt=\"Open In Colab\"/></a>"
      ]
    },
    {
      "cell_type": "markdown",
      "metadata": {
        "id": "A4TELFeDQsI0"
      },
      "source": [
        "<a href=\"https://colab.research.google.com/github/STASYA00/IAAC2024_tutorials/blob/main/quickstarts/03_optimization.ipynb\" target=\"_parent\"><img src=\"https://colab.research.google.com/assets/colab-badge.svg\" alt=\"Open In Colab\"/></a> - Stasja's notebook"
      ]
    },
    {
      "cell_type": "code",
      "execution_count": 1,
      "metadata": {
        "colab": {
          "base_uri": "https://localhost:8080/"
        },
        "id": "ci5lyvH6QsI2",
        "outputId": "97f4e17c-b9a9-458c-fbc9-b610c0ce2a8b"
      },
      "outputs": [
        {
          "output_type": "stream",
          "name": "stdout",
          "text": [
            "Requirement already satisfied: ortools in /usr/local/lib/python3.10/dist-packages (9.9.3963)\n",
            "Requirement already satisfied: absl-py>=2.0.0 in /usr/local/lib/python3.10/dist-packages (from ortools) (2.1.0)\n",
            "Requirement already satisfied: numpy>=1.13.3 in /usr/local/lib/python3.10/dist-packages (from ortools) (1.25.2)\n",
            "Requirement already satisfied: pandas>=2.0.0 in /usr/local/lib/python3.10/dist-packages (from ortools) (2.0.3)\n",
            "Requirement already satisfied: protobuf>=4.25.3 in /usr/local/lib/python3.10/dist-packages (from ortools) (5.26.1)\n",
            "Requirement already satisfied: immutabledict>=3.0.0 in /usr/local/lib/python3.10/dist-packages (from ortools) (4.2.0)\n",
            "Requirement already satisfied: python-dateutil>=2.8.2 in /usr/local/lib/python3.10/dist-packages (from pandas>=2.0.0->ortools) (2.8.2)\n",
            "Requirement already satisfied: pytz>=2020.1 in /usr/local/lib/python3.10/dist-packages (from pandas>=2.0.0->ortools) (2023.4)\n",
            "Requirement already satisfied: tzdata>=2022.1 in /usr/local/lib/python3.10/dist-packages (from pandas>=2.0.0->ortools) (2024.1)\n",
            "Requirement already satisfied: six>=1.5 in /usr/local/lib/python3.10/dist-packages (from python-dateutil>=2.8.2->pandas>=2.0.0->ortools) (1.16.0)\n"
          ]
        }
      ],
      "source": [
        "!pip install ortools"
      ]
    },
    {
      "cell_type": "code",
      "execution_count": 2,
      "metadata": {
        "id": "B5BHHamiQsI3"
      },
      "outputs": [],
      "source": [
        "# !pip install --upgrade nbformat"
      ]
    },
    {
      "cell_type": "markdown",
      "metadata": {
        "id": "OWG8XuRGQsI3"
      },
      "source": [
        "* [Ortools package](https://developers.google.com/optimization)\n",
        "* [What is optimization](https://en.wikipedia.org/wiki/Mathematical_optimization)\n",
        "* [Video on what optimization is](https://youtu.be/AM6BY4btj-M?t=170&si=FUAW-bzml27y61zq) - only 2.50 - 6.00"
      ]
    },
    {
      "cell_type": "markdown",
      "metadata": {
        "id": "7q7_Kn7-QsI3"
      },
      "source": [
        "## 🕍Optimizing house placement"
      ]
    },
    {
      "cell_type": "code",
      "execution_count": 3,
      "metadata": {
        "id": "u9iYiYaDQsI4"
      },
      "outputs": [],
      "source": [
        "from shapely.geometry import Polygon\n",
        "import matplotlib.pyplot as plt\n",
        "import seaborn as sns\n",
        "sns.set_style()"
      ]
    },
    {
      "cell_type": "code",
      "execution_count": 4,
      "metadata": {
        "colab": {
          "base_uri": "https://localhost:8080/",
          "height": 121
        },
        "id": "bGH8pDYcQsI4",
        "outputId": "834f76e0-2ed4-4b28-e23b-02f333ce2dad"
      },
      "outputs": [
        {
          "output_type": "execute_result",
          "data": {
            "text/plain": [
              "<POLYGON ((0 0, 150 0, 150 50, 0 50, 0 0))>"
            ],
            "image/svg+xml": "<svg xmlns=\"http://www.w3.org/2000/svg\" xmlns:xlink=\"http://www.w3.org/1999/xlink\" width=\"162.0\" height=\"100.0\" viewBox=\"-6.0 -6.0 162.0 62.0\" preserveAspectRatio=\"xMinYMin meet\"><g transform=\"matrix(1,0,0,-1,0,50.0)\"><path fill-rule=\"evenodd\" fill=\"#66cc99\" stroke=\"#555555\" stroke-width=\"2.0\" opacity=\"0.6\" d=\"M 0.0,0.0 L 150.0,0.0 L 150.0,50.0 L 0.0,50.0 L 0.0,0.0 z\" /></g></svg>"
          },
          "metadata": {},
          "execution_count": 4
        }
      ],
      "source": [
        "width = 150\n",
        "depth = 50\n",
        "x1 = 0\n",
        "y1 = 0\n",
        "coords = [(x1, y1), (x1 + width, y1), (x1+width, y1+depth), (x1, y1+depth), (x1, y1)]\n",
        "house = Polygon(coords)\n",
        "house"
      ]
    },
    {
      "cell_type": "markdown",
      "metadata": {
        "id": "owX9QWImQsI5"
      },
      "source": [
        "Site geometry"
      ]
    },
    {
      "cell_type": "code",
      "execution_count": 5,
      "metadata": {
        "colab": {
          "base_uri": "https://localhost:8080/",
          "height": 191
        },
        "id": "UzTnMhOJQsI5",
        "outputId": "587d7610-3ab4-4573-8693-75cc1586f36b"
      },
      "outputs": [
        {
          "output_type": "execute_result",
          "data": {
            "text/plain": [
              "<POLYGON ((0 0, 70 0, 70 50, 250 50, 250 150, 0 150, 0 0))>"
            ],
            "image/svg+xml": "<svg xmlns=\"http://www.w3.org/2000/svg\" xmlns:xlink=\"http://www.w3.org/1999/xlink\" width=\"270.0\" height=\"170.0\" viewBox=\"-10.0 -10.0 270.0 170.0\" preserveAspectRatio=\"xMinYMin meet\"><g transform=\"matrix(1,0,0,-1,0,150.0)\"><path fill-rule=\"evenodd\" fill=\"#66cc99\" stroke=\"#555555\" stroke-width=\"2.0\" opacity=\"0.6\" d=\"M 0.0,0.0 L 70.0,0.0 L 70.0,50.0 L 250.0,50.0 L 250.0,150.0 L 0.0,150.0 L 0.0,0.0 z\" /></g></svg>"
          },
          "metadata": {},
          "execution_count": 5
        }
      ],
      "source": [
        "coords = [(0, 0), (70, 0), (70, 50), (250, 50), (250, 150), (0, 150), (0,0)]\n",
        "site = Polygon(coords)\n",
        "site"
      ]
    },
    {
      "cell_type": "markdown",
      "metadata": {
        "id": "b52FD9i2QsI5"
      },
      "source": [
        "### Optimizing house position"
      ]
    },
    {
      "cell_type": "markdown",
      "metadata": {
        "id": "aE4ZSQosQsI5"
      },
      "source": [
        "We will be using [CP-SAT](https://developers.google.com/optimization/cp/cp_solver) solver made available to general public by Google."
      ]
    },
    {
      "cell_type": "code",
      "execution_count": 6,
      "metadata": {
        "id": "1UfMi3C7QsI5"
      },
      "outputs": [],
      "source": [
        "from ortools.sat.python import cp_model\n",
        "model = cp_model.CpModel()"
      ]
    },
    {
      "cell_type": "markdown",
      "metadata": {
        "id": "yF3zs4WfQsI5"
      },
      "source": [
        "Let's place our house onto the site. The constraints would be that:\n",
        "* all house coordinates are within the site polygon"
      ]
    },
    {
      "cell_type": "code",
      "execution_count": 7,
      "metadata": {
        "colab": {
          "base_uri": "https://localhost:8080/"
        },
        "id": "AjWbSaWVQsI6",
        "outputId": "011806ae-9d6e-4827-c491-570465bfa6eb"
      },
      "outputs": [
        {
          "output_type": "execute_result",
          "data": {
            "text/plain": [
              "(0.0, 0.0, 250.0, 150.0)"
            ]
          },
          "metadata": {},
          "execution_count": 7
        }
      ],
      "source": [
        "site.bounds"
      ]
    },
    {
      "cell_type": "code",
      "execution_count": 8,
      "metadata": {
        "colab": {
          "base_uri": "https://localhost:8080/"
        },
        "id": "C4Fn5kOlQsI6",
        "outputId": "8d7b9162-0412-4c34-aa59-d2a750c98b6c"
      },
      "outputs": [
        {
          "output_type": "execute_result",
          "data": {
            "text/plain": [
              "x1(0..250)"
            ]
          },
          "metadata": {},
          "execution_count": 8
        }
      ],
      "source": [
        "# Int var says that we create an integer variable that can have any value in a certain range.\n",
        "# This range is given when we define the variable: here it is 0 and the maximum coordinate of our site (250):\n",
        "x1 = model.NewIntVar(0, int(max(site.bounds)), 'x1')  # last argument is the name of the variable in the model\n",
        "x1"
      ]
    },
    {
      "cell_type": "code",
      "execution_count": 9,
      "metadata": {
        "id": "z2Q-ZhZLQsI6"
      },
      "outputs": [],
      "source": [
        "# The rest of the house coordinates\n",
        "x2 = model.NewIntVar(0, int(max(site.bounds)), 'x2')\n",
        "y1 = model.NewIntVar(0, int(max(site.bounds)), 'y1')\n",
        "y2 = model.NewIntVar(0, int(max(site.bounds)), 'y2')"
      ]
    },
    {
      "cell_type": "markdown",
      "metadata": {
        "id": "DSY1Gqj1QsI6"
      },
      "source": [
        "Now let's add the relationship between the coordinates and tell our model that x2 - x1 = width"
      ]
    },
    {
      "cell_type": "code",
      "execution_count": 10,
      "metadata": {
        "colab": {
          "base_uri": "https://localhost:8080/"
        },
        "id": "XrR6vgbRQsI6",
        "outputId": "8a7fb5ae-335d-4360-a614-a1eabab90551"
      },
      "outputs": [
        {
          "output_type": "execute_result",
          "data": {
            "text/plain": [
              "<ortools.sat.python.cp_model.Constraint at 0x7c520a0cee00>"
            ]
          },
          "metadata": {},
          "execution_count": 10
        }
      ],
      "source": [
        "model.Add(x2-x1==width)\n",
        "model.Add(y2-y1==depth)\n",
        "\n",
        "# Note that our house does not rotate at the moment. We are only placing it vertically."
      ]
    },
    {
      "cell_type": "code",
      "execution_count": 11,
      "metadata": {
        "colab": {
          "base_uri": "https://localhost:8080/"
        },
        "id": "BHd3C7KJQsI6",
        "outputId": "9cc6f407-ba84-4a93-d50e-a2441aa68163"
      },
      "outputs": [
        {
          "output_type": "execute_result",
          "data": {
            "text/plain": [
              "<ortools.sat.python.cp_model.Constraint at 0x7c520bb4e4d0>"
            ]
          },
          "metadata": {},
          "execution_count": 11
        }
      ],
      "source": [
        "model.Add(x1 < int(site.bounds[2]))\n",
        "model.Add(y1 < int(site.bounds[3]))\n",
        "model.Add(x2 < int(site.bounds[2]))\n",
        "model.Add(y2 < int(site.bounds[3]))"
      ]
    },
    {
      "cell_type": "code",
      "execution_count": 12,
      "metadata": {
        "id": "8wlD6XQ3QsI6"
      },
      "outputs": [],
      "source": [
        "model.Minimize(y2)"
      ]
    },
    {
      "cell_type": "code",
      "execution_count": 13,
      "metadata": {
        "colab": {
          "base_uri": "https://localhost:8080/"
        },
        "id": "8http4y3QsI6",
        "outputId": "e8a2f746-f7d7-47b0-c3a7-8b37eb8eef19"
      },
      "outputs": [
        {
          "output_type": "execute_result",
          "data": {
            "text/plain": [
              "4"
            ]
          },
          "metadata": {},
          "execution_count": 13
        }
      ],
      "source": [
        "solver = cp_model.CpSolver()\n",
        "status = solver.Solve(model)\n",
        "status"
      ]
    },
    {
      "cell_type": "code",
      "execution_count": 14,
      "metadata": {
        "colab": {
          "base_uri": "https://localhost:8080/"
        },
        "id": "_naXNm8LQsI7",
        "outputId": "71d4a1a7-70d3-404a-e3a9-2e644bdf35e8"
      },
      "outputs": [
        {
          "output_type": "stream",
          "name": "stdout",
          "text": [
            "x1: 0\n",
            "x2: 150\n",
            "y1: 0\n",
            "y2: 50\n"
          ]
        }
      ],
      "source": [
        "print(\"x1:\", solver.Value(x1))\n",
        "print(\"x2:\", solver.Value(x2))\n",
        "print(\"y1:\", solver.Value(y1))\n",
        "print(\"y2:\", solver.Value(y2))"
      ]
    },
    {
      "cell_type": "code",
      "execution_count": 15,
      "metadata": {
        "id": "nwelxNsiQsI7"
      },
      "outputs": [],
      "source": [
        "house_location = Polygon([\n",
        "    (solver.Value(x1), solver.Value(y1)),\n",
        "    (solver.Value(x2), solver.Value(y1)),\n",
        "    (solver.Value(x2), solver.Value(y2)),\n",
        "    (solver.Value(x1), solver.Value(y2)),\n",
        "    (solver.Value(x1), solver.Value(y1))])"
      ]
    },
    {
      "cell_type": "code",
      "execution_count": 16,
      "metadata": {
        "colab": {
          "base_uri": "https://localhost:8080/",
          "height": 448
        },
        "id": "qV1Dws6vQsI7",
        "outputId": "de372128-13cf-40c8-b636-f6fe5be649a4"
      },
      "outputs": [
        {
          "output_type": "execute_result",
          "data": {
            "text/plain": [
              "[<matplotlib.lines.Line2D at 0x7c520bbb3c10>]"
            ]
          },
          "metadata": {},
          "execution_count": 16
        },
        {
          "output_type": "display_data",
          "data": {
            "text/plain": [
              "<Figure size 640x480 with 1 Axes>"
            ],
            "image/png": "[encoded data removed]"
          },
          "metadata": {}
        }
      ],
      "source": [
        "plt.plot(*site.exterior.xy)\n",
        "plt.plot(*house_location.exterior.xy)"
      ]
    },
    {
      "cell_type": "code",
      "execution_count": 17,
      "metadata": {
        "id": "MuxcorqoQsI7"
      },
      "outputs": [],
      "source": [
        "from __future__ import with_statement\n",
        "def plot_result(slvr):\n",
        "    print(\"x1:\", slvr.Value(x1))\n",
        "    print(\"x2:\", slvr.Value(x2))\n",
        "    print(\"y1:\", slvr.Value(y1))\n",
        "    print(\"y2:\", slvr.Value(y2))\n",
        "\n",
        "    house_location = Polygon([\n",
        "    (solver.Value(x1), solver.Value(y1)),\n",
        "    (solver.Value(x2), solver.Value(y1)),\n",
        "    (solver.Value(x2), solver.Value(y2)),\n",
        "    (solver.Value(x1), solver.Value(y2)),\n",
        "    (solver.Value(x1), solver.Value(y1))])\n",
        "\n",
        "    plt.plot(*site.exterior.xy)\n",
        "    plt.plot(*house_location.exterior.xy)\n"
      ]
    },
    {
      "cell_type": "markdown",
      "metadata": {
        "id": "NSWP0eDoQsI7"
      },
      "source": [
        "Let's adjust our constraints:"
      ]
    },
    {
      "cell_type": "code",
      "execution_count": 18,
      "metadata": {
        "colab": {
          "base_uri": "https://localhost:8080/"
        },
        "id": "s0mfEVKeQsI7",
        "outputId": "fed97c48-95af-4a27-fff2-74f0c5268bfd"
      },
      "outputs": [
        {
          "output_type": "execute_result",
          "data": {
            "text/plain": [
              "<ortools.sat.python.cp_model.Constraint at 0x7c51cff99de0>"
            ]
          },
          "metadata": {},
          "execution_count": 18
        }
      ],
      "source": [
        "model = cp_model.CpModel()\n",
        "x1 = model.NewIntVar(0, int(max(site.bounds)), 'x1')\n",
        "x2 = model.NewIntVar(0, int(max(site.bounds)), 'x2')\n",
        "y1 = model.NewIntVar(0, int(max(site.bounds)), 'y1')\n",
        "y2 = model.NewIntVar(0, int(max(site.bounds)), 'y2')\n",
        "\n",
        "model.Add(x2-x1==width)\n",
        "model.Add(y2-y1==depth)\n",
        "\n",
        "model.Add(x1 < int(site.bounds[2]))\n",
        "model.Add(y1 < int(site.bounds[3]))\n",
        "model.Add(x2 < int(site.bounds[2]))\n",
        "model.Add(y2 < int(site.bounds[3]))"
      ]
    },
    {
      "cell_type": "code",
      "execution_count": 19,
      "metadata": {
        "id": "TGs4BbYcQsI7"
      },
      "outputs": [],
      "source": [
        "x1_outside = model.NewBoolVar(\"x1_outside\")  # true if x1 > 70 -> in the question zone\n",
        "x2_outside = model.NewBoolVar(\"x2_outside\")  # true if x2 > 70 -> in the question zone"
      ]
    },
    {
      "cell_type": "code",
      "execution_count": 20,
      "metadata": {
        "colab": {
          "base_uri": "https://localhost:8080/"
        },
        "id": "eTPMUbNiQsI7",
        "outputId": "e1fc9fbf-d68b-4862-e33e-1e5188e672c9"
      },
      "outputs": [
        {
          "output_type": "execute_result",
          "data": {
            "text/plain": [
              "<ortools.sat.python.cp_model.Constraint at 0x7c51cff99990>"
            ]
          },
          "metadata": {},
          "execution_count": 20
        }
      ],
      "source": [
        "model.Add(x1>=70).OnlyEnforceIf(x1_outside)\n",
        "model.Add(x1<70).OnlyEnforceIf(x1_outside.Not())\n",
        "model.Add(x2>=70).OnlyEnforceIf(x2_outside)\n",
        "model.Add(x2<70).OnlyEnforceIf(x2_outside.Not())"
      ]
    },
    {
      "cell_type": "code",
      "execution_count": 21,
      "metadata": {
        "colab": {
          "base_uri": "https://localhost:8080/"
        },
        "id": "foo59hPNQsI7",
        "outputId": "bec4f392-b081-4d14-9154-9528e9a4b01d"
      },
      "outputs": [
        {
          "output_type": "execute_result",
          "data": {
            "text/plain": [
              "<ortools.sat.python.cp_model.Constraint at 0x7c520a0ceb90>"
            ]
          },
          "metadata": {},
          "execution_count": 21
        }
      ],
      "source": [
        "model.Add(y1>=50).OnlyEnforceIf(x1_outside)  # if x coordinate is in the \"outside zone\" y coordinate can only be from 50 to 150\n",
        "model.Add(y1>=50).OnlyEnforceIf(x2_outside)\n",
        "model.Add(y2>=50).OnlyEnforceIf(x1_outside)\n",
        "model.Add(y2>=50).OnlyEnforceIf(x2_outside)"
      ]
    },
    {
      "cell_type": "code",
      "execution_count": 22,
      "metadata": {
        "colab": {
          "base_uri": "https://localhost:8080/"
        },
        "id": "13vFuOoiQsI7",
        "outputId": "681b6605-34f1-481d-9e3c-58f6d9ba1152"
      },
      "outputs": [
        {
          "output_type": "execute_result",
          "data": {
            "text/plain": [
              "4"
            ]
          },
          "metadata": {},
          "execution_count": 22
        }
      ],
      "source": [
        "model.Minimize(y2)\n",
        "solver = cp_model.CpSolver()\n",
        "status = solver.Solve(model)\n",
        "status"
      ]
    },
    {
      "cell_type": "code",
      "execution_count": 23,
      "metadata": {
        "colab": {
          "base_uri": "https://localhost:8080/",
          "height": 36
        },
        "id": "s-RovXVLQsI7",
        "outputId": "49d0f141-cb64-4d75-ec2a-348d6c9589e3"
      },
      "outputs": [
        {
          "output_type": "execute_result",
          "data": {
            "text/plain": [
              "'OPTIMAL'"
            ],
            "application/vnd.google.colaboratory.intrinsic+json": {
              "type": "string"
            }
          },
          "metadata": {},
          "execution_count": 23
        }
      ],
      "source": [
        "solver.status_name()"
      ]
    },
    {
      "cell_type": "code",
      "execution_count": 24,
      "metadata": {
        "colab": {
          "base_uri": "https://localhost:8080/",
          "height": 502
        },
        "id": "uyaKzW7xQsI8",
        "outputId": "9aa529fb-af7f-4c50-c051-62c9a7c06aee"
      },
      "outputs": [
        {
          "output_type": "stream",
          "name": "stdout",
          "text": [
            "x1: 69\n",
            "x2: 219\n",
            "y1: 50\n",
            "y2: 100\n"
          ]
        },
        {
          "output_type": "display_data",
          "data": {
            "text/plain": [
              "<Figure size 640x480 with 1 Axes>"
            ],
            "image/png": "[encoded data removed]"
          },
          "metadata": {}
        }
      ],
      "source": [
        "plot_result(solver)"
      ]
    },
    {
      "cell_type": "markdown",
      "metadata": {
        "id": "xHIeAdaqQsI8"
      },
      "source": [
        "### 🧩 Task I - multiple houses"
      ]
    },
    {
      "cell_type": "markdown",
      "metadata": {
        "id": "kmrQ9kakQsI8"
      },
      "source": [
        "We learnt how to place a single house on a given site. Let's say we have multiple houses and our goal is to fit as many as possible on a site.\n",
        "\n",
        "Assume that there are no regulations on distance between the houses.\n",
        "\n",
        "__Hint:__\n",
        "* take a look at [2d bin packing](https://yetanothermathprogrammingconsultant.blogspot.com/2021/02/2d-bin-packing-with-google-or-tools-cp.html), feel free to adjust the code\n",
        "* use [interval var](https://developers.google.com/optimization/reference/python/sat/python/cp_model#newintervalvar)\n",
        "* use [AddNoOverlap2D](https://developers.google.com/optimization/reference/python/sat/python/cp_model#addnooverlap2d)"
      ]
    },
    {
      "cell_type": "code",
      "execution_count": 25,
      "metadata": {
        "colab": {
          "base_uri": "https://localhost:8080/",
          "height": 321
        },
        "id": "hUqlOcJeQsI8",
        "outputId": "722967d6-20ab-4f2b-b633-680f3b046a1d"
      },
      "outputs": [
        {
          "output_type": "execute_result",
          "data": {
            "text/plain": [
              "<POLYGON ((0 0, 0 400, 400 400, 400 0, 0 0))>"
            ],
            "image/svg+xml": "<svg xmlns=\"http://www.w3.org/2000/svg\" xmlns:xlink=\"http://www.w3.org/1999/xlink\" width=\"300\" height=\"300\" viewBox=\"-16.0 -16.0 432.0 432.0\" preserveAspectRatio=\"xMinYMin meet\"><g transform=\"matrix(1,0,0,-1,0,400.0)\"><path fill-rule=\"evenodd\" fill=\"#66cc99\" stroke=\"#555555\" stroke-width=\"2.88\" opacity=\"0.6\" d=\"M 0.0,0.0 L 0.0,400.0 L 400.0,400.0 L 400.0,0.0 L 0.0,0.0 z\" /></g></svg>"
          },
          "metadata": {},
          "execution_count": 25
        }
      ],
      "source": [
        "# site_coords = [(0, 0), (70, 0), (70, 50), (250, 50), (250, 150), (0, 150), (0,0)]\n",
        "site_coords = [(0,0), (0, 400), (400, 400), (400, 0), (0,0)]  # simplified version\n",
        "site = Polygon(site_coords)\n",
        "site"
      ]
    },
    {
      "cell_type": "code",
      "execution_count": 26,
      "metadata": {
        "colab": {
          "base_uri": "https://localhost:8080/"
        },
        "id": "jVBLOQBAQsI8",
        "outputId": "029c5539-0c53-44cd-f458-76f33be3c735"
      },
      "outputs": [
        {
          "output_type": "execute_result",
          "data": {
            "text/plain": [
              "16"
            ]
          },
          "metadata": {},
          "execution_count": 26
        }
      ],
      "source": [
        "# houses are presented as width and height\n",
        "houses = [\n",
        "    [20, 40],\n",
        "    [25, 40],\n",
        "    [70, 100],\n",
        "    [75, 30],\n",
        "    [30, 30],\n",
        "    [30, 30],\n",
        "    [12, 25],\n",
        "    [12, 20],\n",
        "    [40, 20],\n",
        "    [40, 30],\n",
        "    [70, 30],\n",
        "    [12, 25],\n",
        "    [12, 20],\n",
        "    [40, 20],\n",
        "    [40, 30],\n",
        "    [70, 30],\n",
        "]\n",
        "len(houses)"
      ]
    },
    {
      "cell_type": "markdown",
      "metadata": {
        "id": "pGXTxsCIQsI8"
      },
      "source": [
        "To get you started, we initiate the model and add a variable for each house that shows whether it is placed or not:"
      ]
    },
    {
      "cell_type": "code",
      "execution_count": 27,
      "metadata": {
        "colab": {
          "base_uri": "https://localhost:8080/"
        },
        "id": "OucJn43EQsI8",
        "outputId": "ec05fa2a-0fcd-4995-d482-00d13fbb88d0"
      },
      "outputs": [
        {
          "output_type": "execute_result",
          "data": {
            "text/plain": [
              "placed_0(0..1)"
            ]
          },
          "metadata": {},
          "execution_count": 27
        }
      ],
      "source": [
        "model = cp_model.CpModel()\n",
        "placed_vars = []\n",
        "\n",
        "for house in range(len(houses)):\n",
        "    placed_vars.append(model.NewBoolVar(\"placed_{}\".format(house)))\n",
        "\n",
        "# take a look at it:\n",
        "placed_vars[0]"
      ]
    },
    {
      "cell_type": "markdown",
      "metadata": {
        "id": "opn0cxOlQsJA"
      },
      "source": [
        "Building variables for one house (let's take number 1):"
      ]
    },
    {
      "cell_type": "markdown",
      "metadata": {
        "id": "QG_3FH5IQsJA"
      },
      "source": [
        "![Variables explanation](https://github.com/STASYA00/IAAC2024_tutorials/blob/main/.assets/optimization/1.jpg?raw=1)"
      ]
    },
    {
      "cell_type": "code",
      "execution_count": 28,
      "metadata": {
        "colab": {
          "base_uri": "https://localhost:8080/"
        },
        "id": "qoOBWo_XQsJA",
        "outputId": "082a71d8-e0b1-457d-c247-2ad34719041a"
      },
      "outputs": [
        {
          "output_type": "stream",
          "name": "stdout",
          "text": [
            "x1_0\n",
            "[x2_0(0..400), x2_1(0..400), x2_2(0..400), x2_3(0..400), x2_4(0..400), x2_5(0..400), x2_6(0..400), x2_7(0..400), x2_8(0..400), x2_9(0..400), x2_10(0..400), x2_11(0..400), x2_12(0..400), x2_13(0..400), x2_14(0..400), x2_15(0..400)]\n"
          ]
        }
      ],
      "source": [
        "MAX_SITE_WIDTH = max([s[0] for s in site_coords])\n",
        "MAX_SITE_HEIGHT = max([s[1] for s in site_coords])\n",
        "x1 = []\n",
        "x2 = []\n",
        "y1 = []\n",
        "y2 = []\n",
        "for house_number in range(len(houses)):\n",
        "\n",
        "  x1.append(model.NewIntVar(0,  MAX_SITE_WIDTH, 'x1_{}'.format(house_number)))\n",
        "  x2.append(model.NewIntVar(0,  MAX_SITE_WIDTH, 'x2_{}'.format(house_number)))\n",
        "  y1.append(model.NewIntVar(0,  MAX_SITE_HEIGHT, 'y1_{}'.format(house_number)))\n",
        "  y2.append(model.NewIntVar(0,  MAX_SITE_HEIGHT, 'y2_{}'.format(house_number)))\n",
        "\n",
        "\n",
        "print(x1[0])\n",
        "print(x2)"
      ]
    },
    {
      "cell_type": "code",
      "execution_count": 29,
      "metadata": {
        "colab": {
          "base_uri": "https://localhost:8080/"
        },
        "id": "38FcVOALQsJA",
        "outputId": "5e635fcc-ee22-41d9-97dc-e42a00af2c2d"
      },
      "outputs": [
        {
          "output_type": "execute_result",
          "data": {
            "text/plain": [
              "[width_interval_0(start = x1_0, size = 20, end = x2_0, is_present = placed_0),\n",
              " width_interval_1(start = x1_1, size = 25, end = x2_1, is_present = placed_1),\n",
              " width_interval_2(start = x1_2, size = 70, end = x2_2, is_present = placed_2),\n",
              " width_interval_3(start = x1_3, size = 75, end = x2_3, is_present = placed_3),\n",
              " width_interval_4(start = x1_4, size = 30, end = x2_4, is_present = placed_4),\n",
              " width_interval_5(start = x1_5, size = 30, end = x2_5, is_present = placed_5),\n",
              " width_interval_6(start = x1_6, size = 12, end = x2_6, is_present = placed_6),\n",
              " width_interval_7(start = x1_7, size = 12, end = x2_7, is_present = placed_7),\n",
              " width_interval_8(start = x1_8, size = 40, end = x2_8, is_present = placed_8),\n",
              " width_interval_9(start = x1_9, size = 40, end = x2_9, is_present = placed_9),\n",
              " width_interval_10(start = x1_10, size = 70, end = x2_10, is_present = placed_10),\n",
              " width_interval_11(start = x1_11, size = 12, end = x2_11, is_present = placed_11),\n",
              " width_interval_12(start = x1_12, size = 12, end = x2_12, is_present = placed_12),\n",
              " width_interval_13(start = x1_13, size = 40, end = x2_13, is_present = placed_13),\n",
              " width_interval_14(start = x1_14, size = 40, end = x2_14, is_present = placed_14),\n",
              " width_interval_15(start = x1_15, size = 70, end = x2_15, is_present = placed_15)]"
            ]
          },
          "metadata": {},
          "execution_count": 29
        }
      ],
      "source": [
        "# interval variables\n",
        "# Arguments: start, size, end, whether it is placed, variable name\n",
        "# https://developers.google.com/optimization/reference/python/sat/python/cp_model#newoptionalintervalvar\n",
        "\n",
        "width_interval = []\n",
        "depth_interval = []\n",
        "\n",
        "for i in range(len(houses)):\n",
        "\n",
        "  width_interval.append(model.NewOptionalIntervalVar(x1[i], houses[i][0], x2[i],\n",
        "                                              placed_vars[i],\n",
        "                                              'width_interval_{}'.format(i)))\n",
        "\n",
        "  depth_interval.append(model.NewOptionalIntervalVar(y1[i], houses[i][1], y2[i],\n",
        "                                              placed_vars[i],\n",
        "                                              'depth_interval_{}'.format(i)))\n",
        "\n",
        "width_interval"
      ]
    },
    {
      "cell_type": "markdown",
      "metadata": {
        "id": "ScP6a7MGQsJA"
      },
      "source": [
        "Complete the model with all the houses."
      ]
    },
    {
      "cell_type": "code",
      "execution_count": 30,
      "metadata": {
        "colab": {
          "base_uri": "https://localhost:8080/"
        },
        "id": "GeQVSrw6QsJA",
        "outputId": "dd46a965-12dd-4198-d22e-f6cb369b08ae"
      },
      "outputs": [
        {
          "output_type": "execute_result",
          "data": {
            "text/plain": [
              "[20, 25, 70, 75, 30, 30, 12, 12, 40, 40, 70, 12, 12, 40, 40, 70]"
            ]
          },
          "metadata": {},
          "execution_count": 30
        }
      ],
      "source": [
        "# your code here\n",
        "house_widths = []\n",
        "house_depths = []\n",
        "\n",
        "for i in range(len(houses)):\n",
        "  house_widths.append(houses[i][0])\n",
        "  house_depths.append(houses[i][1])\n",
        "\n",
        "house_widths"
      ]
    },
    {
      "cell_type": "markdown",
      "metadata": {
        "id": "tW3pBqDHQsJA"
      },
      "source": [
        "![Overlap](https://github.com/STASYA00/IAAC2024_tutorials/blob/main/.assets/optimization/2.jpg?raw=1)"
      ]
    },
    {
      "cell_type": "code",
      "execution_count": 31,
      "metadata": {
        "colab": {
          "base_uri": "https://localhost:8080/"
        },
        "id": "TNGRtAMuQsJA",
        "outputId": "c87749ff-0cce-400c-94c6-3d064a508782"
      },
      "outputs": [
        {
          "output_type": "execute_result",
          "data": {
            "text/plain": [
              "[placed_0(0..1),\n",
              " placed_1(0..1),\n",
              " placed_2(0..1),\n",
              " placed_3(0..1),\n",
              " placed_4(0..1),\n",
              " placed_5(0..1),\n",
              " placed_6(0..1),\n",
              " placed_7(0..1),\n",
              " placed_8(0..1),\n",
              " placed_9(0..1),\n",
              " placed_10(0..1),\n",
              " placed_11(0..1),\n",
              " placed_12(0..1),\n",
              " placed_13(0..1),\n",
              " placed_14(0..1),\n",
              " placed_15(0..1)]"
            ]
          },
          "metadata": {},
          "execution_count": 31
        }
      ],
      "source": [
        "model.AddNoOverlap2D(width_interval, depth_interval)\n",
        "placed_vars"
      ]
    },
    {
      "cell_type": "markdown",
      "metadata": {
        "id": "mcofUs-jQsJB"
      },
      "source": [
        "Run the solver and visualize the solution"
      ]
    },
    {
      "cell_type": "code",
      "execution_count": 34,
      "metadata": {
        "colab": {
          "base_uri": "https://localhost:8080/",
          "height": 1000
        },
        "id": "WPNIAL_tQsJB",
        "outputId": "979c5c87-59fc-48c3-fd99-995c179c1ed9"
      },
      "outputs": [
        {
          "output_type": "stream",
          "name": "stdout",
          "text": [
            "x1: 0\n",
            "x2: 20\n",
            "y1: 0\n",
            "y2: 40\n",
            "x1: 0\n",
            "x2: 25\n",
            "y1: 40\n",
            "y2: 80\n",
            "x1: 0\n",
            "x2: 70\n",
            "y1: 80\n",
            "y2: 180\n",
            "x1: 0\n",
            "x2: 75\n",
            "y1: 180\n",
            "y2: 210\n",
            "x1: 0\n",
            "x2: 30\n",
            "y1: 210\n",
            "y2: 240\n",
            "x1: 0\n",
            "x2: 30\n",
            "y1: 240\n",
            "y2: 270\n",
            "x1: 0\n",
            "x2: 12\n",
            "y1: 270\n",
            "y2: 295\n",
            "x1: 0\n",
            "x2: 12\n",
            "y1: 295\n",
            "y2: 315\n",
            "x1: 0\n",
            "x2: 40\n",
            "y1: 315\n",
            "y2: 335\n",
            "x1: 0\n",
            "x2: 40\n",
            "y1: 335\n",
            "y2: 365\n",
            "x1: 0\n",
            "x2: 70\n",
            "y1: 365\n",
            "y2: 395\n",
            "x1: 12\n",
            "x2: 24\n",
            "y1: 270\n",
            "y2: 295\n",
            "x1: 12\n",
            "x2: 24\n",
            "y1: 295\n",
            "y2: 315\n",
            "x1: 20\n",
            "x2: 60\n",
            "y1: 0\n",
            "y2: 20\n",
            "x1: 24\n",
            "x2: 64\n",
            "y1: 270\n",
            "y2: 300\n",
            "x1: 25\n",
            "x2: 95\n",
            "y1: 20\n",
            "y2: 50\n"
          ]
        },
        {
          "output_type": "display_data",
          "data": {
            "text/plain": [
              "<Figure size 640x480 with 1 Axes>"
            ],
            "image/png": "[encoded data removed]"
          },
          "metadata": {}
        }
      ],
      "source": [
        "# your code here\n",
        "model.Maximize(sum(placed_vars))\n",
        "solver = cp_model.CpSolver()\n",
        "status = solver.Solve(model)\n",
        "solver.status_name()\n",
        "\n",
        "for i in range(len(x1)):\n",
        "    print(\"x1:\", solver.Value(x1[i]))\n",
        "    print(\"x2:\", solver.Value(x2[i]))\n",
        "    print(\"y1:\", solver.Value(y1[i]))\n",
        "    print(\"y2:\", solver.Value(y2[i]))\n",
        "    house_location = Polygon([\n",
        "      (solver.Value(x1[i]), solver.Value(y1[i])),\n",
        "      (solver.Value(x2[i]), solver.Value(y1[i])),\n",
        "      (solver.Value(x2[i]), solver.Value(y2[i])),\n",
        "      (solver.Value(x1[i]), solver.Value(y2[i])),\n",
        "      (solver.Value(x1[i]), solver.Value(y1[i]))])\n",
        "    plt.plot(*site.exterior.xy)\n",
        "    plt.plot(*house_location.exterior.xy)"
      ]
    },
    {
      "cell_type": "code",
      "source": [
        "# solver.Value(placed_vars[2])"
      ],
      "metadata": {
        "id": "7aGe_cd1zHSM"
      },
      "execution_count": null,
      "outputs": []
    },
    {
      "cell_type": "markdown",
      "metadata": {
        "id": "7OApQC_QQsJB"
      },
      "source": [
        "### 🧩 Task II - adding the roads"
      ]
    },
    {
      "cell_type": "markdown",
      "metadata": {
        "id": "qx2Em5_xQsJB"
      },
      "source": [
        "Our houses are placed in a dense grid. Add roads, bike lanes and walkways as constraints to our model"
      ]
    },
    {
      "cell_type": "code",
      "execution_count": null,
      "metadata": {
        "id": "rvBaPcjyQsJB"
      },
      "outputs": [],
      "source": [
        "# your code here"
      ]
    },
    {
      "cell_type": "code",
      "execution_count": null,
      "metadata": {
        "id": "XPTeBeyNQsJB"
      },
      "outputs": [],
      "source": []
    }
  ],
  "metadata": {
    "kernelspec": {
      "display_name": "iaac2024",
      "language": "python",
      "name": "python3"
    },
    "language_info": {
      "codemirror_mode": {
        "name": "ipython",
        "version": 3
      },
      "file_extension": ".py",
      "mimetype": "text/x-python",
      "name": "python",
      "nbconvert_exporter": "python",
      "pygments_lexer": "ipython3",
      "version": "3.10.6"
    },
    "colab": {
      "provenance": [],
      "include_colab_link": true
    }
  },
  "nbformat": 4,
  "nbformat_minor": 0
}